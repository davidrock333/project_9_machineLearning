{
 "cells": [
  {
   "cell_type": "markdown",
   "metadata": {},
   "source": [
    "# Projecto de Machine learning"
   ]
  },
  {
   "cell_type": "markdown",
   "metadata": {},
   "source": [
    "## Carga de Librerias y funciones"
   ]
  },
  {
   "cell_type": "code",
   "execution_count": 1,
   "metadata": {},
   "outputs": [],
   "source": [
    "#standar libs\n",
    "import pandas as pd  # installed from pandas\n",
    "import numpy  as np\n",
    "import logging as log \n",
    "\n",
    "from matplotlib import pyplot as plt\n",
    "\n",
    "#Machine learning libs\n",
    "from sklearn.tree import DecisionTreeClassifier as dtc\n",
    "from sklearn.ensemble import RandomForestClassifier as rfc\n",
    "from sklearn.metrics import accuracy_score as acs\n",
    "#Regresion\n",
    "from sklearn.tree import DecisionTreeRegressor as dtr\n",
    "from sklearn.ensemble import RandomForestRegressor as rfr\n",
    "from sklearn.linear_model import LogisticRegression as lr\n",
    "#Quality \n",
    "from sklearn.model_selection import train_test_split as tts\n",
    "from sklearn.metrics import mean_squared_error as mse"
   ]
  },
  {
   "cell_type": "markdown",
   "metadata": {},
   "source": [
    "### Funciones Basicas"
   ]
  },
  {
   "cell_type": "code",
   "execution_count": 2,
   "metadata": {},
   "outputs": [],
   "source": [
    "def __exception__(exception, where: str = ''):\n",
    "    '''\n",
    "        Read the exception and \n",
    "        return a dict to describe the error\n",
    "    '''\n",
    "    log.error(\"Error Detected\")\n",
    "    return {\"from\": where,\n",
    "            \"type\": type(exception),\n",
    "            \"notes\": exception.args,\n",
    "            \"error\": exception}\n",
    "\n",
    "def check_duplicates(dataframe):\n",
    "    '''\n",
    "        Check in the dataframe if exist duplicates returning string  \n",
    "    '''\n",
    "    try:\n",
    "        value = [f'Values duplicated {value}' if dataframe.duplicated().sum() != 0 else {'Duplicated':0,'info':dataframe.info()}]\n",
    "        return value\n",
    "    except Exception as e:\n",
    "         log.error(__exception__(e, 'check_duplicates')) \n",
    "\n",
    "def charge_file(URL):\n",
    "    '''\n",
    "        url: type String Not null\n",
    "        Getting url and return a dataframe from csv file \n",
    "        using pandas.read_csv\n",
    "    '''\n",
    "    try:\n",
    "        log.debug('file charged successful')\n",
    "        return pd.read_csv(URL)\n",
    "    except Exception as e:\n",
    "        err = __exception__(e, 'charge_file')\n",
    "        log.error()    "
   ]
  },
  {
   "cell_type": "markdown",
   "metadata": {},
   "source": [
    "### Funciones Machine Learning"
   ]
  },
  {
   "cell_type": "code",
   "execution_count": 3,
   "metadata": {},
   "outputs": [],
   "source": [
    "def _split_trainee_valid_(dataframe1, dataframe2=None, percent_test: float = 0.25, random_state=12345):\n",
    "    try:\n",
    "        if dataframe2 == None:\n",
    "            log.info(\"Split started with 1 df\")\n",
    "            return tts(dataframe1, test_size=percent_test, random_state=random_state)\n",
    "        else:\n",
    "            log.info(\"Split started with 2 df\")\n",
    "            return tts(dataframe1, dataframe2, test_size=percent_test, random_state=random_state)\n",
    "    except Exception as e:\n",
    "        log.error(__exception__(e, 'split_trainee'))    \n",
    "        \n",
    "def add_results_score(model:str,scores:dict):\n",
    "    try:\n",
    "        results_models[model] = scores\n",
    "        log.debug('Result saved')\n",
    "    except Exception as e:\n",
    "        log.error(__exception__(e, 'add_results_score'))   \n",
    "        "
   ]
  },
  {
   "cell_type": "code",
   "execution_count": 4,
   "metadata": {},
   "outputs": [],
   "source": [
    "results_models = {}"
   ]
  },
  {
   "cell_type": "markdown",
   "metadata": {},
   "source": [
    "### Diccionario de datos\n",
    "<table>\n",
    "     <caption style=\"text-align:center\">Users Behavior</caption>\n",
    "  <tr>\n",
    "    <th>Field</th>\n",
    "    <th>Type</th>\n",
    "    <th>Description</th>\n",
    "  </tr>\n",
    "  <tr>\n",
    "    <td>сalls</td>\n",
    "    <td>float</td>\n",
    "    <td>Quantity calls registered</td>\n",
    "  </tr>\n",
    "  <tr>\n",
    "    <td>minutes</td>\n",
    "    <td>float</td>\n",
    "    <td>Duration in min registered in every call</td>\n",
    "  </tr>\n",
    "  <tr>\n",
    "    <td>messages</td>\n",
    "    <td>float</td>\n",
    "    <td>Quantity messages registered</td>\n",
    "  </tr>\n",
    "   <tr>\n",
    "    <td>mb_used</td>\n",
    "    <td>float</td>\n",
    "    <td>Quantity MG registered</td>\n",
    "  </tr>\n",
    "  <tr>\n",
    "    <td>mb_used</td>\n",
    "    <td>float</td>\n",
    "    <td>Quantity MG registered</td>\n",
    "  </tr>\n",
    "  <tr>\n",
    "    <td>is_ultra</td>\n",
    "    <td>Boolean</td>\n",
    "    <td>If the customer is plan ultra 1 or not 0</td>\n",
    "  </tr>  \n",
    "</table> \n",
    "\n",
    "\n"
   ]
  },
  {
   "cell_type": "markdown",
   "metadata": {},
   "source": [
    "## Carga de informacion y verificacion"
   ]
  },
  {
   "cell_type": "code",
   "execution_count": 5,
   "metadata": {},
   "outputs": [],
   "source": [
    "df_users_behavior = charge_file(\"/datasets/users_behavior.csv\")"
   ]
  },
  {
   "cell_type": "code",
   "execution_count": 6,
   "metadata": {},
   "outputs": [
    {
     "name": "stdout",
     "output_type": "stream",
     "text": [
      "<class 'pandas.core.frame.DataFrame'>\n",
      "RangeIndex: 3214 entries, 0 to 3213\n",
      "Data columns (total 5 columns):\n",
      " #   Column    Non-Null Count  Dtype  \n",
      "---  ------    --------------  -----  \n",
      " 0   calls     3214 non-null   float64\n",
      " 1   minutes   3214 non-null   float64\n",
      " 2   messages  3214 non-null   float64\n",
      " 3   mb_used   3214 non-null   float64\n",
      " 4   is_ultra  3214 non-null   int64  \n",
      "dtypes: float64(4), int64(1)\n",
      "memory usage: 125.7 KB\n"
     ]
    },
    {
     "data": {
      "text/plain": [
       "[{'Duplicated': 0, 'info': None}]"
      ]
     },
     "execution_count": 6,
     "metadata": {},
     "output_type": "execute_result"
    }
   ],
   "source": [
    "check_duplicates(df_users_behavior)"
   ]
  },
  {
   "cell_type": "code",
   "execution_count": 7,
   "metadata": {},
   "outputs": [
    {
     "data": {
      "text/plain": [
       "calls       0\n",
       "minutes     0\n",
       "messages    0\n",
       "mb_used     0\n",
       "is_ultra    0\n",
       "dtype: int64"
      ]
     },
     "execution_count": 7,
     "metadata": {},
     "output_type": "execute_result"
    }
   ],
   "source": [
    "df_users_behavior.isnull().sum()"
   ]
  },
  {
   "cell_type": "markdown",
   "metadata": {},
   "source": [
    "## Machine Learning "
   ]
  },
  {
   "cell_type": "markdown",
   "metadata": {},
   "source": [
    "### Preparacion de datos"
   ]
  },
  {
   "cell_type": "code",
   "execution_count": 8,
   "metadata": {},
   "outputs": [],
   "source": [
    "df_users_behavior_tr, df_users_behavior_val = _split_trainee_valid_(df_users_behavior,percent_test=0.4)"
   ]
  },
  {
   "cell_type": "code",
   "execution_count": 9,
   "metadata": {},
   "outputs": [],
   "source": [
    "df_users_behavior_val, df_users_behavior_test = _split_trainee_valid_(df_users_behavior_val,percent_test=0.5)"
   ]
  },
  {
   "cell_type": "code",
   "execution_count": 10,
   "metadata": {},
   "outputs": [
    {
     "name": "stdout",
     "output_type": "stream",
     "text": [
      "Original size 3214 , size trainee 1928, size validator 643, size test 643\n"
     ]
    }
   ],
   "source": [
    "print('Original size {} , size trainee {}, size validator {}, size test {}'\n",
    "    .format(len(df_users_behavior),len(df_users_behavior_tr),len(df_users_behavior_val),len(df_users_behavior_test)))"
   ]
  },
  {
   "cell_type": "code",
   "execution_count": 11,
   "metadata": {},
   "outputs": [],
   "source": [
    "features_ub = df_users_behavior_tr.drop('is_ultra',axis=1)\n",
    "target_ub = df_users_behavior_tr['is_ultra']"
   ]
  },
  {
   "cell_type": "code",
   "execution_count": 12,
   "metadata": {},
   "outputs": [],
   "source": [
    "features_ub_vali = df_users_behavior_val.drop('is_ultra',axis=1)\n",
    "target_ub_vali = df_users_behavior_val['is_ultra']"
   ]
  },
  {
   "cell_type": "code",
   "execution_count": 13,
   "metadata": {},
   "outputs": [],
   "source": [
    "features_ub_test = df_users_behavior_test.drop('is_ultra',axis=1)\n",
    "target_ub_test = df_users_behavior_test['is_ultra']"
   ]
  },
  {
   "cell_type": "markdown",
   "metadata": {},
   "source": [
    "### DecisionTreeClassifier"
   ]
  },
  {
   "cell_type": "code",
   "execution_count": 14,
   "metadata": {},
   "outputs": [
    {
     "name": "stdout",
     "output_type": "stream",
     "text": [
      "Best score 0.46326987119974766 in depth 3\n"
     ]
    }
   ],
   "source": [
    "best_result = 10000\n",
    "for depth in range(1, 30):  # selecciona el rango del hiperparámetro\n",
    "    model = dtc(random_state=54321,max_depth=depth)\n",
    "    model.fit(features_ub, target_ub)\n",
    "    validate_predictions = model.predict(features_ub_vali)\n",
    "  \n",
    "    score= acs(target_ub_vali, validate_predictions) # calcula la puntuación de accuracy en el conjunto de entrenamiento\n",
    "    result = (mse(target_ub_vali,validate_predictions))**(1/2)# calcula la RECM en el conjunto de validación\n",
    "    if result < best_result:\n",
    "        best_model = model\n",
    "        best_result = result\n",
    "        best_depth = depth\n",
    "print(f'Best score {best_result} in depth {best_depth}')"
   ]
  },
  {
   "cell_type": "code",
   "execution_count": 15,
   "metadata": {},
   "outputs": [
    {
     "name": "stdout",
     "output_type": "stream",
     "text": [
      "Validator score 0.5111509289453966 in Test score 0.5305591404878536\n"
     ]
    }
   ],
   "source": [
    "best_model= dtc(random_state=54321,max_depth=3)\n",
    "best_model.fit(features_ub, target_ub)\n",
    "validate_predictions = model.predict(features_ub_vali)\n",
    "test_predictions = model.predict(features_ub_test)\n",
    "\n",
    "test_score =  (mse(target_ub_vali,validate_predictions))**(1/2)\n",
    "validator_score = (mse(target_ub_test,test_predictions))**(1/2)\n",
    "print(f'Validator score {validator_score} in Test score {test_score}')"
   ]
  },
  {
   "cell_type": "code",
   "execution_count": 16,
   "metadata": {},
   "outputs": [],
   "source": [
    "add_results_score('DecisionTreeClassifier',{'best_score':best_result,'best_depth':best_depth,'results_test':test_score})"
   ]
  },
  {
   "cell_type": "markdown",
   "metadata": {},
   "source": [
    "### RandomForestClassifier"
   ]
  },
  {
   "cell_type": "code",
   "execution_count": 17,
   "metadata": {},
   "outputs": [
    {
     "name": "stdout",
     "output_type": "stream",
     "text": [
      "Best score 0.43914238489881496 in depth 21, best est40\n"
     ]
    }
   ],
   "source": [
    "best_error= 1000000\n",
    "for est in range(10, 51, 10):\n",
    "    for depth in range(1, 30):  # selecciona el rango del hiperparámetro\n",
    "        model = rfc(random_state=54321, n_estimators=est,max_depth=depth)\n",
    "        model.fit(features_ub, target_ub)\n",
    "        validate_predictions = model.predict(features_ub_vali)\n",
    "        score= model.score(features_ub_vali,target_ub_vali) # calcula la puntuación de accuracy en el conjunto de entrenamiento\n",
    "        \n",
    "        error = (mse(target_ub_vali,validate_predictions))**(1/2)\n",
    "        if error < best_error: # guardamos la configuración del modelo si se logra el error más bajo\n",
    "            best_error = error\n",
    "            best_est = est\n",
    "            best_depth = depth\n",
    "print(f'Best score {best_error} in depth {best_depth}, best est{best_est}')"
   ]
  },
  {
   "cell_type": "code",
   "execution_count": 18,
   "metadata": {},
   "outputs": [
    {
     "name": "stdout",
     "output_type": "stream",
     "text": [
      "Validator score 0.4582066604725423 in Test score 0.44616910922652836\n"
     ]
    }
   ],
   "source": [
    "best_model= rfc(random_state=54321,n_estimators=40,max_depth=21)\n",
    "best_model.fit(features_ub, target_ub)\n",
    "validate_predictions = model.predict(features_ub_vali)\n",
    "test_predictions = model.predict(features_ub_test)\n",
    "\n",
    "test_score =  (mse(target_ub_vali,validate_predictions))**(1/2)\n",
    "validator_score = (mse(target_ub_test,test_predictions))**(1/2)\n",
    "print(f'Validator score {validator_score} in Test score {test_score}')"
   ]
  },
  {
   "cell_type": "code",
   "execution_count": 19,
   "metadata": {},
   "outputs": [],
   "source": [
    "add_results_score('RandomForestClassifier',{'best_score':best_error,'best_depth':best_depth,'best_est':best_est,'results_test':test_score})"
   ]
  },
  {
   "cell_type": "markdown",
   "metadata": {},
   "source": [
    "### DecisionTreeRegressor"
   ]
  },
  {
   "cell_type": "code",
   "execution_count": 20,
   "metadata": {},
   "outputs": [
    {
     "name": "stdout",
     "output_type": "stream",
     "text": [
      "Best score 0.4067582618063413 in depth 5\n"
     ]
    }
   ],
   "source": [
    "best_result=1000\n",
    "for depth in range(1, 30): # selecciona el rango del hiperparámetro, el límite superior no se incluye\n",
    "    model = dtr(max_depth=depth,random_state=12345)# entrena el modelo en el conjunto de entrenamiento\n",
    "    model.fit(features_ub,target_ub) # entrena el modelo en el conjunto de entrenamiento\n",
    "    predictions_valid = model.predict(features_ub_vali) # obtén las predicciones del modelo en el conjunto de validación\n",
    "    result = (mse(target_ub_vali,predictions_valid))**(1/2)# calcula la RECM en el conjunto de validación\n",
    "    if result < best_result:\n",
    "        best_model = model\n",
    "        best_result = result\n",
    "        best_depth = depth\n",
    "print(f'Best score {best_result} in depth {best_depth}')          "
   ]
  },
  {
   "cell_type": "code",
   "execution_count": 21,
   "metadata": {},
   "outputs": [
    {
     "name": "stdout",
     "output_type": "stream",
     "text": [
      "Validator score 0.5126699543713144 in Test score 0.5305591404878536\n"
     ]
    }
   ],
   "source": [
    "best_model= dtr(max_depth=best_depth,random_state=12345)\n",
    "best_model.fit(features_ub, target_ub)\n",
    "validate_predictions = model.predict(features_ub_vali)\n",
    "test_predictions = model.predict(features_ub_test)\n",
    "\n",
    "test_score =  (mse(target_ub_vali,validate_predictions))**(1/2)\n",
    "validator_score = (mse(target_ub_test,test_predictions))**(1/2)\n",
    "print(f'Validator score {validator_score} in Test score {test_score}')"
   ]
  },
  {
   "cell_type": "code",
   "execution_count": 22,
   "metadata": {},
   "outputs": [],
   "source": [
    "add_results_score('DecisionTreeRegressor',{'best_score':best_result,'best_depth':best_depth,'results_test':test_score})"
   ]
  },
  {
   "cell_type": "markdown",
   "metadata": {},
   "source": [
    "### RandomForestRegressor"
   ]
  },
  {
   "cell_type": "code",
   "execution_count": 23,
   "metadata": {},
   "outputs": [
    {
     "name": "stdout",
     "output_type": "stream",
     "text": [
      "Best score 0.38721432460630223 in depth 7, best est 10\n"
     ]
    }
   ],
   "source": [
    "best_error = 10000\n",
    "for est in range(10, 51, 10):\n",
    "    for depth in range (1, 11):\n",
    "        model = rfr(n_estimators=est,max_depth = depth,random_state=54321)# inicializa el constructor de modelos con los parámetros random_state=54321, n_estimators=est y max_depth=depth\n",
    "        model.fit(features_ub,target_ub) # entrena el modelo en el conjunto de entrenamiento\n",
    "        predictions_valid = model.predict(features_ub_vali) # obtén las predicciones del modelo en el conjunto de validación\n",
    "        error = (mse(target_ub_vali,predictions_valid))**(1/2)\n",
    "        if error < best_error: # guardamos la configuración del modelo si se logra el error más bajo\n",
    "            best_error = error\n",
    "            best_est = est\n",
    "            best_depth = depth\n",
    "print(f'Best score {best_error} in depth {best_depth}, best est {best_est}')            "
   ]
  },
  {
   "cell_type": "code",
   "execution_count": 24,
   "metadata": {},
   "outputs": [
    {
     "name": "stdout",
     "output_type": "stream",
     "text": [
      "Validator score 0.3852230120620878 in Test score 0.3915684151346548\n"
     ]
    }
   ],
   "source": [
    "best_model= rfr(random_state=54321,n_estimators=best_est,max_depth=best_depth)\n",
    "best_model.fit(features_ub, target_ub)\n",
    "validate_predictions = model.predict(features_ub_vali)\n",
    "test_predictions = model.predict(features_ub_test)\n",
    "\n",
    "test_score =  (mse(target_ub_vali,validate_predictions))**(1/2)\n",
    "validator_score = (mse(target_ub_test,test_predictions))**(1/2)\n",
    "print(f'Validator score {validator_score} in Test score {test_score}')"
   ]
  },
  {
   "cell_type": "code",
   "execution_count": 25,
   "metadata": {},
   "outputs": [],
   "source": [
    "add_results_score('RandomForestRegressor',{'best_score':best_error,'best_depth':best_depth,'best_est':best_est,'results_test':test_score})"
   ]
  },
  {
   "cell_type": "markdown",
   "metadata": {},
   "source": [
    "### LogisticRegression"
   ]
  },
  {
   "cell_type": "code",
   "execution_count": 26,
   "metadata": {},
   "outputs": [
    {
     "name": "stdout",
     "output_type": "stream",
     "text": [
      "RECM del modelo de regresión lineal en el conjunto de validación: 0.3915684151346548\n"
     ]
    }
   ],
   "source": [
    "model = lr(random_state=54321)# inicializa el constructor de modelos\n",
    "model.fit(features_ub,target_ub) # entrena el modelo en el conjunto de entrenamiento\n",
    "predictions_valid = model.predict(features_ub_vali) # obtén las predicciones del modelo en el conjunto de validación\n",
    "\n",
    "result = (mse(target_ub_vali,validate_predictions))**(1/2)# calcula la RECM en el conjunto de validación\n",
    "print(\"RECM del modelo de regresión lineal en el conjunto de validación:\", result)"
   ]
  },
  {
   "cell_type": "code",
   "execution_count": 27,
   "metadata": {},
   "outputs": [
    {
     "name": "stdout",
     "output_type": "stream",
     "text": [
      "VaTest score 0.5618786528502141\n"
     ]
    }
   ],
   "source": [
    "test_predictions = model.predict(features_ub_test)\n",
    "test_score =  (mse(target_ub_test,test_predictions))**(1/2)\n",
    "print(f'VaTest score {test_score}')"
   ]
  },
  {
   "cell_type": "code",
   "execution_count": 28,
   "metadata": {},
   "outputs": [],
   "source": [
    "add_results_score('LogisticRegression',{'best_score':result,'results_test':test_score})"
   ]
  },
  {
   "cell_type": "markdown",
   "metadata": {},
   "source": [
    "## Validacion de mejor modelo"
   ]
  },
  {
   "cell_type": "code",
   "execution_count": 29,
   "metadata": {},
   "outputs": [],
   "source": [
    "best_scores = [[key,value['best_score'],value['results_test']] for key,value in results_models.items()]\n",
    "best_scores=pd.DataFrame(best_scores,columns=['model','best_score_validator','test_score'])\n",
    "      "
   ]
  },
  {
   "cell_type": "code",
   "execution_count": 30,
   "metadata": {},
   "outputs": [
    {
     "data": {
      "image/png": "[encoded data removed]",
      "text/plain": [
       "<Figure size 640x480 with 1 Axes>"
      ]
     },
     "metadata": {},
     "output_type": "display_data"
    }
   ],
   "source": [
    "best_scores.plot(title='Best Score',\n",
    "                   kind='bar',\n",
    "                   x='model',\n",
    "                   y='best_score_validator',\n",
    "                   grid=True,\n",
    "                   xlabel='Modelo',\n",
    "                   ylabel='RMSE',\n",
    "                   legend=False)\n",
    "yticks = np.arange(0, 0.5, 0.05)\n",
    "plt.yticks(yticks) \n",
    "plt.show()     "
   ]
  },
  {
   "cell_type": "code",
   "execution_count": 32,
   "metadata": {},
   "outputs": [
    {
     "data": {
      "image/png": "[encoded data removed]",
      "text/plain": [
       "<Figure size 1000x400 with 1 Axes>"
      ]
     },
     "metadata": {},
     "output_type": "display_data"
    }
   ],
   "source": [
    "validator = best_scores.plot(title='Validator vs Test score',\n",
    "                         x='model', y='best_score_validator',\n",
    "                         xlabel='model',\n",
    "                         ylabel='RMSE',\n",
    "                         figsize=[10, 4],\n",
    "                         color='blue',\n",
    "                         style='-',\n",
    "                         label='Validator',\n",
    "                         legend=False\n",
    "                        )\n",
    "test = best_scores.plot(title='Validator vs Test score',\n",
    "                         x='model', y='test_score',\n",
    "                         color='red',\n",
    "                         ax=validator,\n",
    "                         style='--',\n",
    "                         label='Test',\n",
    "                         legend=False\n",
    "                        )\n",
    "yticks = np.arange(0.35, 0.57, 0.01)\n",
    "plt.yticks(yticks) \n",
    "plt.legend()\n",
    "plt.show()"
   ]
  },
  {
   "cell_type": "code",
   "execution_count": 33,
   "metadata": {},
   "outputs": [
    {
     "data": {
      "text/html": [
       "<div>\n",
       "<style scoped>\n",
       "    .dataframe tbody tr th:only-of-type {\n",
       "        vertical-align: middle;\n",
       "    }\n",
       "\n",
       "    .dataframe tbody tr th {\n",
       "        vertical-align: top;\n",
       "    }\n",
       "\n",
       "    .dataframe thead th {\n",
       "        text-align: right;\n",
       "    }\n",
       "</style>\n",
       "<table border=\"1\" class=\"dataframe\">\n",
       "  <thead>\n",
       "    <tr style=\"text-align: right;\">\n",
       "      <th></th>\n",
       "      <th>model</th>\n",
       "      <th>best_score_validator</th>\n",
       "      <th>test_score</th>\n",
       "    </tr>\n",
       "  </thead>\n",
       "  <tbody>\n",
       "    <tr>\n",
       "      <th>0</th>\n",
       "      <td>DecisionTreeClassifier</td>\n",
       "      <td>0.463270</td>\n",
       "      <td>0.530559</td>\n",
       "    </tr>\n",
       "    <tr>\n",
       "      <th>1</th>\n",
       "      <td>RandomForestClassifier</td>\n",
       "      <td>0.439142</td>\n",
       "      <td>0.446169</td>\n",
       "    </tr>\n",
       "    <tr>\n",
       "      <th>2</th>\n",
       "      <td>DecisionTreeRegressor</td>\n",
       "      <td>0.406758</td>\n",
       "      <td>0.530559</td>\n",
       "    </tr>\n",
       "    <tr>\n",
       "      <th>3</th>\n",
       "      <td>RandomForestRegressor</td>\n",
       "      <td>0.387214</td>\n",
       "      <td>0.391568</td>\n",
       "    </tr>\n",
       "    <tr>\n",
       "      <th>4</th>\n",
       "      <td>LogisticRegression</td>\n",
       "      <td>0.391568</td>\n",
       "      <td>0.561879</td>\n",
       "    </tr>\n",
       "  </tbody>\n",
       "</table>\n",
       "</div>"
      ],
      "text/plain": [
       "                    model  best_score_validator  test_score\n",
       "0  DecisionTreeClassifier              0.463270    0.530559\n",
       "1  RandomForestClassifier              0.439142    0.446169\n",
       "2   DecisionTreeRegressor              0.406758    0.530559\n",
       "3   RandomForestRegressor              0.387214    0.391568\n",
       "4      LogisticRegression              0.391568    0.561879"
      ]
     },
     "execution_count": 33,
     "metadata": {},
     "output_type": "execute_result"
    }
   ],
   "source": [
    "best_scores"
   ]
  },
  {
   "cell_type": "markdown",
   "metadata": {},
   "source": [
    "En la medida que el modelo se vuelve mas complejo, la puntuacion en los datos de validacion tienden a bajar, sin embargo, al tomar el modelo y probarlo con los datos de prueba se evidencia que los arboles de decision tienden a generar mayor discrepancia que los modelos de bosque.\n",
    "Por otro lado, el modelo de regresion lineal para esta cantidad de datos, el tiempo de ejecucion fue corta pero los resultados con los datos de prueba fueron significativamente mayores.\n",
    "\n",
    "Para este modelo en concreto, aunque el tiempo de ejecucion fue mas alta RandomForestRegressor es mas acertada."
   ]
  }
 ],
 "metadata": {
  "kernelspec": {
   "display_name": "Python 3 (ipykernel)",
   "language": "python",
   "name": "python3"
  },
  "language_info": {
   "codemirror_mode": {
    "name": "ipython",
    "version": 3
   },
   "file_extension": ".py",
   "mimetype": "text/x-python",
   "name": "python",
   "nbconvert_exporter": "python",
   "pygments_lexer": "ipython3",
   "version": "3.9.22"
  }
 },
 "nbformat": 4,
 "nbformat_minor": 4
}
